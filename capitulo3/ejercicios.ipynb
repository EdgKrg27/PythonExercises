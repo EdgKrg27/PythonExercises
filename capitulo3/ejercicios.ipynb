{
 "cells": [
  {
   "cell_type": "markdown",
   "id": "064a744e-0f25-470c-a1a6-05bbf6462d5f",
   "metadata": {},
   "source": [
    "# Ejercicios Capitulo 3"
   ]
  },
  {
   "cell_type": "markdown",
   "id": "6ac70121-311a-4f06-977b-6fd3a1fe31fb",
   "metadata": {},
   "source": [
    "### 3-1 Nombres\n",
    "Guarde los nombres de unos cuantros amigos en una lista llamada, nombres. Imprima el nombre de cada persona accediendo al elemento correspondiente de la lista, de uno en uno"
   ]
  },
  {
   "cell_type": "markdown",
   "id": "6cf5a731-8369-4b33-aa82-fddaac6869a9",
   "metadata": {},
   "source": [
    "### 3-2 Saludos\n",
    "Empiece con la lista del ejercicio 3-1, pero en vez de solo imprimir el nombre de cada persona, imprima un mensaje para ellos. El texto de cada mensaje debería ser el mismo, pero cada mensaje debería personalizarse con el nombre de la persona."
   ]
  },
  {
   "cell_type": "markdown",
   "id": "2ea2e701-3f8e-444e-a0c5-9c3e4b5110b1",
   "metadata": {},
   "source": [
    "### 3-3 Su propia lista\n",
    "Piense en su medio de transporte favorito, como la moto o el coche y haga una lista que incluya varios ejemplos. Use la lista para imprimir una serie de frases sobre esos elementos, como \"Me gustaría tener una moto Honda\""
   ]
  },
  {
   "cell_type": "markdown",
   "id": "6fd65f84-b5d1-40d1-8d97-c92b459d799d",
   "metadata": {},
   "source": [
    "### 3-4 Lista de invitados\n",
    "Si pudiese invitar a cualquiera, vivo o muierto a cenar, ¿a quien invitaria?, Haga una lista de al menos tres personas a las que le gustaría invitar a una cena y úsela para imprimir un mensaje para cada persona invitándole a cenar"
   ]
  },
  {
   "cell_type": "markdown",
   "id": "4fddc355-80be-4e4f-9769-9828970b3530",
   "metadata": {},
   "source": [
    "### 3-5 Cambiar la lista de invitados\n",
    "Acaba de enterarse de que uno de sus invitados no podrá asistir, así que tiene que enviar un nuevo juego de invitaciones.\n",
    "Tendrá que pensar en otra persona para invitar.\n",
    "- Empiece con el prigrama del ejercicio 3-4. Añada una llamada a print() al final del programa indicando el nombre del invitado que no puede asistir\n",
    "- Modifique la lista sustituyendo el nombre del invitado que no puede venir por el de otra persona a la qu eva a invitar en su lugar\n",
    "- Imprima un segundo grupo de mensajes de invitación, uno para cada persona qu ehaya en la lista ahora"
   ]
  },
  {
   "cell_type": "markdown",
   "id": "0b301ea5-9f7c-43a7-9469-c9a236de683c",
   "metadata": {},
   "source": [
    "### 3-6 Más invitados\n",
    "Acaba de encontrar una mesa más grfande asíq ue dispone de más espacio. Piense en otros tres invitados más\n",
    "- Empiece con el programa del ejecicio 3-4 o 3-5. Añada una llamada a print()al final para informar a la gente de que ha encontrado una mesa de comerdor más grande\n",
    "- Use insert() para añadir un nuevo invitado al principio de la lista\n",
    "- Use insert() para añadir un nuevo invitado en mitad de la lista\n",
    "- Use append() para añadir un nuevo invitado al final de la lista\n",
    "- Imprima un nuevo juego de mensajes de invitación, uno por cada persona de la lista"
   ]
  },
  {
   "cell_type": "markdown",
   "id": "cdd248f4-4427-4b20-94c1-83ccc32d6ae0",
   "metadata": {},
   "source": [
    "### 3-7 Reducir la lista de invitados\n",
    "Acaba de descubrir que la mesa no llegará a tiempo para la cena y solo tiene espacio para dos invitados\n",
    "- Empiece con el programa 3-6. Añada una línea que imprima un mensaje diciendo que solo puede invitar a dos personas a cenar\n",
    "- Use pop() para eliminar invitados de la lsita de uno en uno hasta que solo queden dos. Cada vez que retire un nombre de la lista, impri9ma un mensaje para esa persona diciendo que lo siente, pero que no puede invitarle a cenar.\n",
    "- Imprima un mensaje para cada una de las dos personas que quedan en la lista informándoles de que siguen invitados\n",
    "- Use del para borrar los dos últimos nombres de lista y que se quede vacia. Imprima la lista para asegurarse de que ralmente tiene una lista vacía al final del programa"
   ]
  },
  {
   "cell_type": "markdown",
   "id": "5a869e12-2c0d-41c6-a984-f5d188c5028b",
   "metadata": {},
   "source": [
    "### 3-8 Ver el mundo\n",
    "Piense en al menos cinco lugares del mundo que le gustaría visitar\n",
    "- Guarde esos lugares en una lista. Asegúrese de no hacerla en orden alfabético\n",
    "- Imprima la lista en su orden original. No se preocupe por el formato, simplemente imprímaña com una lista\n",
    "- Use sorted() para imprimir la lista en orden alfabético sin modificarla realmente\n",
    "- Compruebe que la lista siga en su orden original imprimiéndola\n",
    "- User sorted() para imprimr la lista en orden alfabético inverso sin cambiar el orden la lista original\n",
    "- Compruebe que la lista sigue en su orden origianl imprimiéndola otra vez\n",
    "- Use reverse() para cambiar el orden de la lista. Imprímala para comprar que el orden ha cambiado\n",
    "- Use sort() para cambiar la lista y guardarla en orden alfabético. Imprímala para comprobar que el orden ha cambiado\n",
    "- Use sort() para cambiar la lista y guardarla en orden alfabético inverso. Imprímala para comprobar que el orden ha cambiado"
   ]
  },
  {
   "cell_type": "markdown",
   "id": "0f7687da-9665-4ea1-ab10-079eed15ec31",
   "metadata": {},
   "source": [
    "### 3-9 Invitados a la cena\n",
    "Trabajando con los progamas de 3-4 a 3-7 utilice len() para imprimir un mensaje indicando el número de personas que va a invitar a cenar"
   ]
  },
  {
   "cell_type": "markdown",
   "id": "1444d989-e28e-44fd-af80-d6da2720b0fd",
   "metadata": {},
   "source": [
    "### 3-10 Todas las funciones\n",
    "Piense en algo que puede guardar en una lista. Escriba un programa que cree una lista que contenga estos elementos y use cada función presentada en este caítulo al menos una vez"
   ]
  },
  {
   "cell_type": "code",
   "execution_count": null,
   "id": "ddf94c54-3519-4012-8e00-76ca486807af",
   "metadata": {},
   "outputs": [],
   "source": []
  }
 ],
 "metadata": {
  "kernelspec": {
   "display_name": "Python 3 (ipykernel)",
   "language": "python",
   "name": "python3"
  },
  "language_info": {
   "codemirror_mode": {
    "name": "ipython",
    "version": 3
   },
   "file_extension": ".py",
   "mimetype": "text/x-python",
   "name": "python",
   "nbconvert_exporter": "python",
   "pygments_lexer": "ipython3",
   "version": "3.12.7"
  }
 },
 "nbformat": 4,
 "nbformat_minor": 5
}
