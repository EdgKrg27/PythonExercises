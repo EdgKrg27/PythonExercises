{
 "cells": [
  {
   "cell_type": "markdown",
   "id": "4d03f6a8-622f-4bba-b8cd-514717e4ba68",
   "metadata": {},
   "source": [
    "# Python Avanzado"
   ]
  },
  {
   "cell_type": "markdown",
   "id": "1f055c42-bc33-499e-996d-ee50e2493972",
   "metadata": {
    "jp-MarkdownHeadingCollapsed": true
   },
   "source": [
    "## Setencias break y continue"
   ]
  },
  {
   "cell_type": "code",
   "execution_count": 4,
   "id": "85f5a688-3870-406d-8c6a-e149cbd519ab",
   "metadata": {},
   "outputs": [
    {
     "name": "stdout",
     "output_type": "stream",
     "text": [
      "paco\n"
     ]
    }
   ],
   "source": [
    "# Sentencia break\n",
    "nombres = ['paco', 'emilio', 'javier']\n",
    "\n",
    "for elemento in nombres:\n",
    "    if elemento == 'emilio':\n",
    "        break\n",
    "    print(elemento)"
   ]
  },
  {
   "cell_type": "code",
   "execution_count": 5,
   "id": "8885f4cc-235d-41e0-8324-8c474d874cd5",
   "metadata": {},
   "outputs": [
    {
     "name": "stdout",
     "output_type": "stream",
     "text": [
      "paco\n",
      "javier\n"
     ]
    }
   ],
   "source": [
    "# Sentencia continue\n",
    "nombres = ['paco', 'emilio', 'javier']\n",
    "\n",
    "for elemento in nombres:\n",
    "    if elemento == 'emilio':\n",
    "        continue\n",
    "    print(elemento)"
   ]
  },
  {
   "cell_type": "markdown",
   "id": "57b300ef-097b-48cf-b428-7729c29274ac",
   "metadata": {},
   "source": [
    "## Función Range"
   ]
  },
  {
   "cell_type": "code",
   "execution_count": null,
   "id": "87b3e68f-ebdd-4a08-8bad-c54dd668f7c3",
   "metadata": {},
   "outputs": [],
   "source": []
  }
 ],
 "metadata": {
  "kernelspec": {
   "display_name": "Python 3 (ipykernel)",
   "language": "python",
   "name": "python3"
  },
  "language_info": {
   "codemirror_mode": {
    "name": "ipython",
    "version": 3
   },
   "file_extension": ".py",
   "mimetype": "text/x-python",
   "name": "python",
   "nbconvert_exporter": "python",
   "pygments_lexer": "ipython3",
   "version": "3.12.7"
  }
 },
 "nbformat": 4,
 "nbformat_minor": 5
}
