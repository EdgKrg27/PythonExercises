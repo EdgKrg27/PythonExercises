{
 "cells": [
  {
   "cell_type": "markdown",
   "id": "8bcaf0ea-5143-4cb5-8fd8-ab0108c81c30",
   "metadata": {},
   "source": [
    "# Ejercicios"
   ]
  },
  {
   "cell_type": "code",
   "execution_count": 28,
   "id": "bf9d4032-408d-450e-a4f2-7dedd18b5cf4",
   "metadata": {},
   "outputs": [],
   "source": [
    "from functools import reduce\n",
    "from math import gcd"
   ]
  },
  {
   "cell_type": "markdown",
   "id": "59ebda97-f5b0-4002-bba6-6c6060135aba",
   "metadata": {
    "jp-MarkdownHeadingCollapsed": true
   },
   "source": [
    "## Expersiones lambda"
   ]
  },
  {
   "cell_type": "code",
   "execution_count": 3,
   "id": "75695c7b-e9c6-4228-a447-e52aada4a1a3",
   "metadata": {},
   "outputs": [
    {
     "name": "stdout",
     "output_type": "stream",
     "text": [
      "7\n"
     ]
    }
   ],
   "source": [
    "# suma de dos números\n",
    "suma = lambda x,y: x+y\n",
    "print(suma(4,3))"
   ]
  },
  {
   "cell_type": "code",
   "execution_count": 4,
   "id": "89004bd0-30c0-4458-b89d-e19bbdd70c33",
   "metadata": {},
   "outputs": [
    {
     "name": "stdout",
     "output_type": "stream",
     "text": [
      "False\n",
      "True\n"
     ]
    }
   ],
   "source": [
    "# verificar si un número es par\n",
    "par = lambda x: x%2 == 0\n",
    "print(par(5))\n",
    "print(par(8))"
   ]
  },
  {
   "cell_type": "code",
   "execution_count": 6,
   "id": "bd52f85d-0b2a-45ef-bf74-97861686fc40",
   "metadata": {},
   "outputs": [
    {
     "name": "stdout",
     "output_type": "stream",
     "text": [
      "9\n"
     ]
    }
   ],
   "source": [
    "# Elevar un número al cuadrado\n",
    "cuadrado = lambda n: n**2\n",
    "print(cuadrado(3))"
   ]
  },
  {
   "cell_type": "code",
   "execution_count": 9,
   "id": "164faae9-cb9b-411f-895c-986d062781f3",
   "metadata": {},
   "outputs": [
    {
     "name": "stdout",
     "output_type": "stream",
     "text": [
      "[2, 4, 6, 8, 10]\n"
     ]
    }
   ],
   "source": [
    "# filtrar números pares de una lista\n",
    "numeros = [1,2,3,4,5,6,7,8,9,10]\n",
    "numeros_pares = list(filter(lambda x: x%2 == 0, numeros))\n",
    "print(numeros_pares)"
   ]
  },
  {
   "cell_type": "code",
   "execution_count": 10,
   "id": "4b35ecf2-2b56-4ba2-b14e-c9063160a31b",
   "metadata": {},
   "outputs": [
    {
     "name": "stdout",
     "output_type": "stream",
     "text": [
      "[1, 4, 9, 16, 25, 36, 49, 64, 81, 100]\n"
     ]
    }
   ],
   "source": [
    "# mapear una lista de números al cuadrado\n",
    "numeros = [1,2,3,4,5,6,7,8,9,10]\n",
    "cuadrado = list(map(lambda x: x**2,numeros))\n",
    "print(cuadrado)"
   ]
  },
  {
   "cell_type": "code",
   "execution_count": 14,
   "id": "80255765-be02-4bea-8d21-c9428f6a1a4d",
   "metadata": {},
   "outputs": [
    {
     "name": "stdout",
     "output_type": "stream",
     "text": [
      "15\n"
     ]
    }
   ],
   "source": [
    "# sumar elementos de una lista\n",
    "numeros = [1,2,3,4,5]\n",
    "suma_total = reduce(lambda x,y:x+y,numeros)\n",
    "print(suma_total)"
   ]
  },
  {
   "cell_type": "code",
   "execution_count": 19,
   "id": "dd265cb9-44d4-4809-bc00-41193a02fa57",
   "metadata": {},
   "outputs": [
    {
     "name": "stdout",
     "output_type": "stream",
     "text": [
      "[(2, 'dos'), (3, 'tres'), (1, 'uno')]\n"
     ]
    }
   ],
   "source": [
    "# ordenar una lista de tuplas por el segundo elemento\n",
    "tupla = [(1,'uno'),(2,'dos'),(3,'tres')]\n",
    "tuplas_ordenadas = sorted(tupla, key=lambda x:x[1])\n",
    "print(tuplas_ordenadas)"
   ]
  },
  {
   "cell_type": "code",
   "execution_count": 26,
   "id": "caa9c185-fbbd-4f66-a7a1-9ccba233187a",
   "metadata": {},
   "outputs": [
    {
     "name": "stdout",
     "output_type": "stream",
     "text": [
      "['Deyanria']\n"
     ]
    }
   ],
   "source": [
    "# filtrar palabras que comiencen con una letra en especifico\n",
    "palabras = ['Edgar', 'Deyanria', 'Maya']\n",
    "filtro = list(filter(lambda x:x.startswith('D'), palabras))\n",
    "print(filtro)"
   ]
  },
  {
   "cell_type": "code",
   "execution_count": 27,
   "id": "86864878-992a-4e49-906f-c340160fdacd",
   "metadata": {},
   "outputs": [
    {
     "name": "stdout",
     "output_type": "stream",
     "text": [
      "3628800\n"
     ]
    }
   ],
   "source": [
    "# multiplicar los elementos de una lista\n",
    "numeros = [1,2,3,4,5,6,7,8,9,10]\n",
    "mult = reduce(lambda x,y: x*y, numeros)\n",
    "print(mult)"
   ]
  },
  {
   "cell_type": "code",
   "execution_count": 29,
   "id": "ce215587-5f8d-4008-ab8a-e3a593c87eff",
   "metadata": {},
   "outputs": [
    {
     "name": "stdout",
     "output_type": "stream",
     "text": [
      "60\n",
      "36\n"
     ]
    }
   ],
   "source": [
    "# calcular el mínimo común multiplo de dos números\n",
    "mcm = lambda a,b: abs(a*b)//gcd(a,b)\n",
    "print(mcm(15,20))\n",
    "print(mcm(9,12))"
   ]
  },
  {
   "cell_type": "code",
   "execution_count": 32,
   "id": "79b402a7-c20a-4397-b2be-acb5b2a88a43",
   "metadata": {},
   "outputs": [
    {
     "name": "stdout",
     "output_type": "stream",
     "text": [
      "[{'nombre': 'Maya', 'edad': 0}, {'nombre': 'Edgar', 'edad': 33}, {'nombre': 'Deyanira', 'edad': 36}]\n"
     ]
    }
   ],
   "source": [
    "# ordenar lista de diccionarios por una clave\n",
    "persona = [\n",
    "    {'nombre':'Edgar', 'edad':33},\n",
    "    {'nombre':'Deyanira', 'edad':36},\n",
    "    {'nombre':'Maya', 'edad':0}\n",
    "]\n",
    "personas_ordenadas = sorted(persona, key=lambda x:x['edad'])\n",
    "print(personas_ordenadas)"
   ]
  },
  {
   "cell_type": "code",
   "execution_count": 33,
   "id": "fbcc8922-6cf4-4849-9bf0-c71679b5d281",
   "metadata": {},
   "outputs": [
    {
     "name": "stdout",
     "output_type": "stream",
     "text": [
      "True\n",
      "False\n"
     ]
    }
   ],
   "source": [
    "# comprobar si una cadena es palindromo\n",
    "es_palindromo = lambda s:s == s[::-1]\n",
    "print(es_palindromo('radar'))\n",
    "print(es_palindromo('nadar'))"
   ]
  },
  {
   "cell_type": "markdown",
   "id": "61f46612-bbe1-43ef-956f-5e7febd284e8",
   "metadata": {},
   "source": [
    "## Pyspark"
   ]
  },
  {
   "cell_type": "code",
   "execution_count": null,
   "id": "f194b9fd-a847-4f7b-9e63-8895d6746264",
   "metadata": {},
   "outputs": [],
   "source": []
  }
 ],
 "metadata": {
  "kernelspec": {
   "display_name": "Python 3 (ipykernel)",
   "language": "python",
   "name": "python3"
  },
  "language_info": {
   "codemirror_mode": {
    "name": "ipython",
    "version": 3
   },
   "file_extension": ".py",
   "mimetype": "text/x-python",
   "name": "python",
   "nbconvert_exporter": "python",
   "pygments_lexer": "ipython3",
   "version": "3.12.7"
  }
 },
 "nbformat": 4,
 "nbformat_minor": 5
}
