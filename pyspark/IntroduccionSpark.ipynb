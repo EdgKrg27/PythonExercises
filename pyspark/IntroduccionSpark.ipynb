{
 "cells": [
  {
   "cell_type": "markdown",
   "id": "491fdba7-2e7b-414c-a1e0-5f7df4028a87",
   "metadata": {},
   "source": [
    "# Introducción a Spark"
   ]
  },
  {
   "cell_type": "code",
   "execution_count": null,
   "id": "c1687f13-921d-4f0c-b30e-291f4e89ccfb",
   "metadata": {},
   "outputs": [],
   "source": [
    "from pyspark import SparkContext"
   ]
  },
  {
   "cell_type": "markdown",
   "id": "ff566098-ad54-4ea1-aee0-f2cb84d9617b",
   "metadata": {},
   "source": [
    "## 1) Expresiones Lambda\n",
    "Como se escribe una función en Python"
   ]
  },
  {
   "cell_type": "code",
   "execution_count": null,
   "id": "ac74f1e1-e3d9-4d8b-b9d6-c77ec90a8444",
   "metadata": {},
   "outputs": [],
   "source": [
    "#opción uno\n",
    "def cuadrado1(num):\n",
    "    resultado = num**2\n",
    "    return resultado\n",
    "\n",
    "print(cuadrado1(2))\n",
    "\n",
    "#opción dos\n",
    "def cuadrado2(num): return num**2\n",
    "print(cuadrado2(2))"
   ]
  },
  {
   "cell_type": "markdown",
   "id": "76ca8dd3-9ccf-41dd-9d31-6c716fed67d2",
   "metadata": {},
   "source": [
    "**Función lambda**: forma corta de declarar funciones pequeñas y anónimas, además se comportan como funciones normales declaradas con ***def***. Estas resultan utiles cuando se desea definir una función pequeña de forma concisa. Esta pueden contener solamente una expresión."
   ]
  },
  {
   "cell_type": "code",
   "execution_count": null,
   "id": "78b3226c-d73b-495e-bd47-b3ffb2bfa369",
   "metadata": {},
   "outputs": [],
   "source": [
    "#ejemplo de una función lambda\n",
    "lambda num: num**2"
   ]
  },
  {
   "cell_type": "code",
   "execution_count": null,
   "id": "b242772d-7289-4a0d-b57c-2b04fbd4bdb9",
   "metadata": {},
   "outputs": [],
   "source": [
    "# asignación de una expresión o función lambda a una variable\n",
    "cuadrado = lambda num:num**2\n",
    "cuadrado(4)"
   ]
  },
  {
   "cell_type": "code",
   "execution_count": null,
   "id": "7a5a00f3-a479-4fbb-8f7e-93e9a42364e1",
   "metadata": {},
   "outputs": [],
   "source": [
    "par = lambda num:num%2 == 0\n",
    "par(2)"
   ]
  },
  {
   "cell_type": "code",
   "execution_count": null,
   "id": "28c088a6-78ab-4326-b2de-30ff631c6fa6",
   "metadata": {},
   "outputs": [],
   "source": [
    "par(3)"
   ]
  },
  {
   "cell_type": "code",
   "execution_count": null,
   "id": "15ee1b6b-cb0b-43e6-9375-19ec98c92a4d",
   "metadata": {},
   "outputs": [],
   "source": [
    "primer = lambda s: s[0]\n",
    "primer('Hola Mundo')"
   ]
  },
  {
   "cell_type": "code",
   "execution_count": null,
   "id": "42832659-8724-45b4-bc46-4657954cf3a3",
   "metadata": {},
   "outputs": [],
   "source": [
    "ultimo = lambda s:s[-1]\n",
    "ultimo('Edgar')"
   ]
  },
  {
   "cell_type": "markdown",
   "id": "d4f0ee5f-b646-49b1-8805-c1192ceaecc3",
   "metadata": {},
   "source": [
    "# Introducción a Spark con Python"
   ]
  },
  {
   "cell_type": "code",
   "execution_count": null,
   "id": "0fef22d2-4b39-41d9-9574-bf20fe6fb3b5",
   "metadata": {},
   "outputs": [],
   "source": []
  }
 ],
 "metadata": {
  "kernelspec": {
   "display_name": "Python 3 (ipykernel)",
   "language": "python",
   "name": "python3"
  },
  "language_info": {
   "codemirror_mode": {
    "name": "ipython",
    "version": 3
   },
   "file_extension": ".py",
   "mimetype": "text/x-python",
   "name": "python",
   "nbconvert_exporter": "python",
   "pygments_lexer": "ipython3",
   "version": "3.12.7"
  }
 },
 "nbformat": 4,
 "nbformat_minor": 5
}
