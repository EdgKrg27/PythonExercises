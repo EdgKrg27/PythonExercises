{
 "cells": [
  {
   "cell_type": "markdown",
   "id": "138f569b-417e-40eb-bbfd-39328184f09f",
   "metadata": {},
   "source": [
    "# Ejercicios del capitulo2"
   ]
  },
  {
   "cell_type": "markdown",
   "id": "16f2a771-fc70-46b3-bc2d-bcdba166888c",
   "metadata": {
    "jp-MarkdownHeadingCollapsed": true
   },
   "source": [
    "### 2-1 Mensaje simple\n",
    "Asigne un mensaje a una variable e imprima ese mensaje"
   ]
  },
  {
   "cell_type": "code",
   "execution_count": 2,
   "id": "ad506d5e-e75a-440f-9ade-aaaa8312822f",
   "metadata": {},
   "outputs": [
    {
     "name": "stdout",
     "output_type": "stream",
     "text": [
      "Hola este es un mensaje\n"
     ]
    }
   ],
   "source": [
    "message = \"Hola este es un mensaje\"\n",
    "print(message)"
   ]
  },
  {
   "cell_type": "markdown",
   "id": "2c8f799c-6be5-42de-8b6e-4f1724d39716",
   "metadata": {
    "jp-MarkdownHeadingCollapsed": true
   },
   "source": [
    "### 2-2 Mensajes simples\n",
    "Asigne un mensaje a una variable e imprímalo. Luego, cambie el valor de la variable por un mensaje diferente e imprima el nuevo mensaje"
   ]
  },
  {
   "cell_type": "code",
   "execution_count": 4,
   "id": "515280c2-cc6e-469d-b0b1-69989cc5dff6",
   "metadata": {},
   "outputs": [
    {
     "name": "stdout",
     "output_type": "stream",
     "text": [
      "Este es un mensaje uno\n",
      "Este es un mensaje dos\n"
     ]
    }
   ],
   "source": [
    "message = \"Este es un mensaje uno\"\n",
    "print(message)\n",
    "message = \"Este es un mensaje dos\"\n",
    "print(message)"
   ]
  },
  {
   "cell_type": "markdown",
   "id": "907767a9-f5f4-4e29-ad74-bd0c9c1b9691",
   "metadata": {
    "jp-MarkdownHeadingCollapsed": true
   },
   "source": [
    "### 2-3 Mensaje personal\n",
    "Use una variable para representar el nombre de una persona e imprima un mensaje para esa persona. El mensaje debería ser sencillo."
   ]
  },
  {
   "cell_type": "code",
   "execution_count": 5,
   "id": "d6db4bd6-ef3b-4852-9c41-48097793f6c8",
   "metadata": {},
   "outputs": [
    {
     "name": "stdout",
     "output_type": "stream",
     "text": [
      "Hola Edgar ¿Te gustaría aprender Python?\n"
     ]
    }
   ],
   "source": [
    "nombrePersona = \"Edgar\"\n",
    "print(f\"Hola {nombrePersona} ¿Te gustaría aprender Python?\")"
   ]
  },
  {
   "cell_type": "markdown",
   "id": "2487155b-5a43-4daf-8aeb-9f50522884b9",
   "metadata": {
    "jp-MarkdownHeadingCollapsed": true
   },
   "source": [
    "### 2-4 Grafía de nombres\n",
    "use una variable para representar el nombre de una persona e imprima ese nombre en minúsculas, mayúsculas y con mayúscula inicial"
   ]
  },
  {
   "cell_type": "code",
   "execution_count": 8,
   "id": "3485d279-483f-445b-a59a-b64d4f13e901",
   "metadata": {},
   "outputs": [
    {
     "name": "stdout",
     "output_type": "stream",
     "text": [
      "edgar\n",
      "EDGAR\n",
      "Edgar\n"
     ]
    }
   ],
   "source": [
    "nombrePersona = \"Edgar\"\n",
    "print(f\"{nombrePersona.lower()}\")\n",
    "print(f\"{nombrePersona.upper()}\")\n",
    "print(f\"{nombrePersona.title()}\")"
   ]
  },
  {
   "cell_type": "markdown",
   "id": "9c93d32b-16c1-4331-b69f-f6df48dacbab",
   "metadata": {
    "jp-MarkdownHeadingCollapsed": true
   },
   "source": [
    "### 2-5 Cita célebre\n",
    "Busque una cita de un personaje al que admire. Imprima la cita y el nombre del autor. La salida debería tener un aspecto similar a esto, incluidas las comillas.\n",
    "~~~\n",
    "Albert Einstein once said, \"A person who never made a mistake never tried anything new\"\n",
    "~~~"
   ]
  },
  {
   "cell_type": "code",
   "execution_count": 10,
   "id": "da9ababe-a739-49c9-b7fd-57f71bf99bd7",
   "metadata": {},
   "outputs": [
    {
     "name": "stdout",
     "output_type": "stream",
     "text": [
      "Monkey D. Luffy dijo, \"El poder no se determina por tu tamaño, ¡sino por el tamaño de tu corazón y tus sueños!\"\n"
     ]
    }
   ],
   "source": [
    "message = \"El poder no se determina por tu tamaño, ¡sino por el tamaño de tu corazón y tus sueños!\"\n",
    "print(f'Monkey D. Luffy dijo, \"{message}\"')"
   ]
  },
  {
   "cell_type": "markdown",
   "id": "b508568b-3258-460d-89a3-c73f5e91d6e7",
   "metadata": {
    "jp-MarkdownHeadingCollapsed": true
   },
   "source": [
    "### 2-6 Cita célebre 2\n",
    "Repita el ejercicio 2-5, pero esta vez, represente el nombre de la persona usando una variable llamada famous_person. Después, componga el mensaje y represéntelo con una nueva variable llamada message. Imprima su mensaje"
   ]
  },
  {
   "cell_type": "code",
   "execution_count": 11,
   "id": "865b6804-b1f1-4ce7-a166-cf25b47747d8",
   "metadata": {},
   "outputs": [
    {
     "name": "stdout",
     "output_type": "stream",
     "text": [
      "Monkey D. Luffy dijo, \"El poder no se determina por tu tamaño, ¡sino por el tamaño de tu corazón y tus sueños!\"\n"
     ]
    }
   ],
   "source": [
    "message = \"El poder no se determina por tu tamaño, ¡sino por el tamaño de tu corazón y tus sueños!\"\n",
    "famous_person = \"Monkey D. Luffy\"\n",
    "print(f'{famous_person} dijo, \"{message}\"')"
   ]
  },
  {
   "cell_type": "markdown",
   "id": "7faef904-da2c-4780-a15c-7c4597073fdc",
   "metadata": {
    "jp-MarkdownHeadingCollapsed": true
   },
   "source": [
    "### 2-7 Eliminar espacios de nombres\n",
    "Use una variable para representar el nombre de una persona e incluya algunos caracteres de espacio en blanco al principio y al final del nombre. Asegúrese de usar cada combinación de caracteres, \"\\t\", \"\\n\" al menos una vez. Imprima el nombre una vez, de modo que se muestren los espacios alrededor.\n",
    "A continuación, imprima el nombre usando cada una de las tres funciones que hemos visto: lstrip(), rstrip(), strip()"
   ]
  },
  {
   "cell_type": "code",
   "execution_count": 14,
   "id": "8d65ff6b-f627-4538-8162-e5175443af7f",
   "metadata": {},
   "outputs": [
    {
     "name": "stdout",
     "output_type": "stream",
     "text": [
      "Edgar   \n",
      "\tEdgar\n",
      "Edgar\n"
     ]
    }
   ],
   "source": [
    "name = \"\\tEdgar   \"\n",
    "print(name.lstrip())\n",
    "print(name.rstrip())\n",
    "print(name.strip())"
   ]
  },
  {
   "cell_type": "markdown",
   "id": "89d927f6-6362-454f-81d7-55c90d8e86e2",
   "metadata": {
    "jp-MarkdownHeadingCollapsed": true
   },
   "source": [
    "### 2-8 Número ocho\n",
    "Escriba operaciones de suma, resta, multiplicación y división que den como resultado el número 8. Asegúrese de incluir sus operaciones en llamadas print() para ver los resultados. Debería crear cuatro líneas con este aspecto.\n",
    "~~~\n",
    "print(5+3)\n",
    "~~~\n",
    "La salida debería ser simplemente cuatro líneas con el número 8 unav ez en cada una."
   ]
  },
  {
   "cell_type": "code",
   "execution_count": 15,
   "id": "1acba8d7-09f6-4bc6-9447-7d3e2861a683",
   "metadata": {},
   "outputs": [
    {
     "name": "stdout",
     "output_type": "stream",
     "text": [
      "8\n",
      "8\n",
      "8\n",
      "8.0\n"
     ]
    }
   ],
   "source": [
    "print(4+4)\n",
    "print(10-2)\n",
    "print(4*2)\n",
    "print(32/4)"
   ]
  },
  {
   "cell_type": "markdown",
   "id": "9851c8be-d32b-47c0-9411-b683250d1299",
   "metadata": {
    "jp-MarkdownHeadingCollapsed": true
   },
   "source": [
    "### 2-9 Número favorito\n",
    "Use una variable para representar su número favorito. A continuación, usando esa variable, cree el mensaje que revele su número favorito e imprimalo"
   ]
  },
  {
   "cell_type": "code",
   "execution_count": 17,
   "id": "8cabadf3-c805-4906-8d64-c60fb7b28b1d",
   "metadata": {},
   "outputs": [
    {
     "name": "stdout",
     "output_type": "stream",
     "text": [
      "Mi número favorito es el: 7\n"
     ]
    }
   ],
   "source": [
    "number = 7\n",
    "print(f\"Mi número favorito es el: {number}\")"
   ]
  },
  {
   "cell_type": "markdown",
   "id": "e1c5b612-06fe-412b-9254-3abdce9043bb",
   "metadata": {},
   "source": [
    "-------"
   ]
  },
  {
   "cell_type": "markdown",
   "id": "51157eec-d1c9-467f-9236-386d0169af99",
   "metadata": {},
   "source": [
    "## Ejercicios"
   ]
  },
  {
   "cell_type": "markdown",
   "id": "4e5b610f-7b4f-4902-a285-3abebfcd9bb4",
   "metadata": {},
   "source": [
    "### Operaciones básicas"
   ]
  },
  {
   "cell_type": "code",
   "execution_count": 18,
   "id": "3b1b059d-1482-4d33-894a-fe19effaecf5",
   "metadata": {},
   "outputs": [
    {
     "name": "stdout",
     "output_type": "stream",
     "text": [
      "8\n",
      "2\n",
      "3.0\n",
      "2.0833333333333335\n"
     ]
    }
   ],
   "source": [
    "num1 = 5\n",
    "num2 = 3\n",
    "num3 = 2.5\n",
    "num4 = 1.2\n",
    "\n",
    "suma = num1 + num2\n",
    "resta = num1 - num2\n",
    "multiplicacion = num3 * num4\n",
    "division = num3 / num4\n",
    "\n",
    "print(suma)\n",
    "print(resta)\n",
    "print(multiplicacion)\n",
    "print(division)"
   ]
  },
  {
   "cell_type": "markdown",
   "id": "41857463-e21f-4444-aad5-bbe959342b70",
   "metadata": {},
   "source": [
    "### Concatención de cadenas"
   ]
  },
  {
   "cell_type": "code",
   "execution_count": 19,
   "id": "2cf460b0-6894-4d83-ad69-c3f9b227cbd8",
   "metadata": {},
   "outputs": [
    {
     "name": "stdout",
     "output_type": "stream",
     "text": [
      "Mi nombre es: Edgar Gonzalez\n"
     ]
    }
   ],
   "source": [
    "nombre = \"Edgar\"\n",
    "apellido = \"Gonzalez\"\n",
    "\n",
    "mensaje = \"Mi nombre es: \" + nombre + \" \" + apellido\n",
    "\n",
    "print(mensaje)"
   ]
  },
  {
   "cell_type": "markdown",
   "id": "ebcbff37-d0fa-433d-8924-e0b0c2dd374e",
   "metadata": {},
   "source": [
    "### Conversiones de tipos de dato"
   ]
  },
  {
   "cell_type": "code",
   "execution_count": 20,
   "id": "c1246017-3b34-4e85-a153-c45d6b2c4dbf",
   "metadata": {},
   "outputs": [
    {
     "name": "stdout",
     "output_type": "stream",
     "text": [
      "Edad como cadena: 33\n",
      "Altura como entero: 1\n",
      "Edad como flotante: 33.0\n"
     ]
    }
   ],
   "source": [
    "edad = 33\n",
    "altura = 1.75\n",
    "\n",
    "edad_str = str(edad)\n",
    "altura_entero = int(altura)\n",
    "edad_flotante = float(edad)\n",
    "\n",
    "print(f\"Edad como cadena: {edad_str}\")\n",
    "print(f\"Altura como entero: {altura_entero}\")\n",
    "print(f\"Edad como flotante: {edad_flotante}\")"
   ]
  },
  {
   "cell_type": "markdown",
   "id": "0188cfe0-be4c-4989-a455-694990d68cfc",
   "metadata": {},
   "source": [
    "### Operaciones con booleanos"
   ]
  },
  {
   "cell_type": "code",
   "execution_count": null,
   "id": "bb0e1a01-4b9b-451d-9844-82cff4d4b836",
   "metadata": {},
   "outputs": [],
   "source": [
    "es_adulto = True\n",
    "tiene_permiso = False"
   ]
  }
 ],
 "metadata": {
  "kernelspec": {
   "display_name": "Python 3 (ipykernel)",
   "language": "python",
   "name": "python3"
  },
  "language_info": {
   "codemirror_mode": {
    "name": "ipython",
    "version": 3
   },
   "file_extension": ".py",
   "mimetype": "text/x-python",
   "name": "python",
   "nbconvert_exporter": "python",
   "pygments_lexer": "ipython3",
   "version": "3.12.7"
  }
 },
 "nbformat": 4,
 "nbformat_minor": 5
}
