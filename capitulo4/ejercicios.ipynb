{
 "cells": [
  {
   "cell_type": "markdown",
   "id": "631e613e-ee13-4716-9103-c47c12c6201b",
   "metadata": {},
   "source": [
    "# Ejercicios Capitulo 4"
   ]
  },
  {
   "cell_type": "markdown",
   "id": "f987825f-189f-4e36-acb4-582e4b4582d2",
   "metadata": {},
   "source": [
    "### 4-1 Pizzas\n",
    "Piense en al menos tres de sus pizzas favoritas. Guarde estos nombres en una lista y use un bucle for para imprimir el nombre de cada pizza. \n",
    "- Modifique su bucle for para imprimir una oración usando el nombre de la pizza en vez de solo el nombre. Para cada pizza debería tener al menos una línea de salida con una oración simple, como \"ME gusta la pizza de pepperoni\".\n",
    "- Añada una línea al final del programa, fuera del bucle, que indique cuánto le gusta la pizza. La salida debería tener tres o más líneas sobre sus pizzas favoritas y al final una frase adicional, como \"Me encanta la pizza\""
   ]
  },
  {
   "cell_type": "code",
   "execution_count": null,
   "id": "ff46fd00-85c8-4e3f-8ebc-7f5db75e30be",
   "metadata": {},
   "outputs": [],
   "source": []
  }
 ],
 "metadata": {
  "kernelspec": {
   "display_name": "Python 3 (ipykernel)",
   "language": "python",
   "name": "python3"
  },
  "language_info": {
   "codemirror_mode": {
    "name": "ipython",
    "version": 3
   },
   "file_extension": ".py",
   "mimetype": "text/x-python",
   "name": "python",
   "nbconvert_exporter": "python",
   "pygments_lexer": "ipython3",
   "version": "3.12.7"
  }
 },
 "nbformat": 4,
 "nbformat_minor": 5
}
